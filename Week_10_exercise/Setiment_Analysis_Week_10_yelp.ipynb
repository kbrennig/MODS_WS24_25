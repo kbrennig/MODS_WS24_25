{
 "cells": [
  {
   "cell_type": "code",
   "execution_count": null,
   "metadata": {
    "executionInfo": {
     "elapsed": 4,
     "status": "ok",
     "timestamp": 1730738797319,
     "user": {
      "displayName": "Arthur S",
      "userId": "06175255907682516412"
     },
     "user_tz": -60
    },
    "id": "U8jtwQlN-0a-"
   },
   "outputs": [],
   "source": [
    "import numpy as np\n",
    "import random\n",
    "# Set seed for reproducibility\n",
    "np.random.seed(42)  # Set seed for NumPy\n",
    "random.seed(42) # Set seed for random module"
   ]
  },
  {
   "cell_type": "code",
   "execution_count": null,
   "metadata": {
    "executionInfo": {
     "elapsed": 555,
     "status": "ok",
     "timestamp": 1730739019394,
     "user": {
      "displayName": "Arthur S",
      "userId": "06175255907682516412"
     },
     "user_tz": -60
    },
    "id": "Xv9VrfskCQN8"
   },
   "outputs": [],
   "source": [
    "# Import required libraries\n",
    "import nltk\n",
    "from sklearn.feature_extraction.text import TfidfVectorizer\n",
    "from sklearn.model_selection import train_test_split\n",
    "from sklearn.ensemble import RandomForestClassifier\n",
    "from sklearn.metrics import mean_squared_error, root_mean_squared_error\n",
    "from nltk.corpus import stopwords\n",
    "from sklearn.feature_selection import f_regression\n",
    "import matplotlib.pyplot as plt\n",
    "import seaborn as sns\n",
    "import string\n",
    "\n",
    "import pandas as pd\n",
    "\n",
    "# Loading the data from a csv file\n",
    "reviews = pd.read_csv(\"https://raw.githubusercontent.com/kbrennig/MODS_WS24_25/refs/heads/main/data/yelp.csv\")\n",
    "\n",
    "\n"
   ]
  },
  {
   "cell_type": "markdown",
   "metadata": {
    "id": "805yVu7ICpX6"
   },
   "source": [
    "## Sentiment Analysis as a Random Forest Task\n",
    "You are analyzing a dataset of restaurant reviews. In the age of social media, online reviews are increasingly important for restaurants. You aim to conduct sentiment analysis and identify important words in the restaurant reviews.\n",
    "\n",
    "The dataset is stored in the variable reviews, and the target variable is called stars.\n",
    "\n",
    "1. Tokenization and Text Preprocessing\n",
    "    * Tokenize the reviews.\n",
    "    * Apply stemming to all tokens in the corpus.\n",
    "    * Remove stop words.\n",
    "    * Remove punctuation.\n",
    "\n",
    "2. Prepare Data for Training\n",
    "    * Split the dataset into training (70%) and test (30%) sets.\n",
    "    * Ensure proper handling of both features (TF-IDF matrix) and the target variable (stars).\n",
    "\n",
    "3. Transform Words to TF-IDF\n",
    "    * Transform the words into a TF-IDF weighted matrix.\n",
    "    * Due to resource constraints, remove any words that occur less than 2,000 times across the entire corpus.\n",
    "    * Convert the TF-IDF matrix into a DataFrame\n",
    "\n",
    "4. Train a Random Forest Model\n",
    "    * Train a Random Forest regressor on the training data, using all available predictors.\n",
    "    * Use this model to predict the sentiment (stars) for the test data.\n",
    "\n",
    "5. Evaluate Model Performance\n",
    "    * Compute the RMSE (Root Mean Square Error) to evaluate the model's predictive performance.\n",
    "\n",
    "6. Calculate Feature Importance\n",
    "    * Compute feature importance using the trained Random Forest model.\n",
    "    * Use the mean squared error (\"mse\") as the loss function to evaluate feature importance."
   ]
  },
  {
   "cell_type": "code",
   "execution_count": null,
   "metadata": {
    "colab": {
     "base_uri": "https://localhost:8080/",
     "height": 656
    },
    "executionInfo": {
     "elapsed": 56166,
     "status": "ok",
     "timestamp": 1730739095696,
     "user": {
      "displayName": "Arthur S",
      "userId": "06175255907682516412"
     },
     "user_tz": -60
    },
    "id": "GK7pW1vvCqjJ",
    "outputId": "ce121324-20ea-4dc4-f20d-8d732a623412"
   },
   "outputs": [],
   "source": [
    "# Download NLTK data\n",
    "nltk.download('punkt')\n",
    "nltk.download('stopwords')\n",
    "\n",
    "# Display summary of data\n",
    "reviews.describe()\n",
    "\n",
    "# Set a seed for reproducibility\n",
    "np.random.seed(42)\n",
    "\n",
    "# Enter your code here!"
   ]
  }
 ],
 "metadata": {
  "colab": {
   "provenance": []
  },
  "kernelspec": {
   "display_name": "MODS",
   "language": "python",
   "name": "python3"
  },
  "language_info": {
   "codemirror_mode": {
    "name": "ipython",
    "version": 3
   },
   "file_extension": ".py",
   "mimetype": "text/x-python",
   "name": "python",
   "nbconvert_exporter": "python",
   "pygments_lexer": "ipython3",
   "version": "3.12.2"
  }
 },
 "nbformat": 4,
 "nbformat_minor": 0
}
